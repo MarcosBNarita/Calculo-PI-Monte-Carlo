{
  "nbformat": 4,
  "nbformat_minor": 0,
  "metadata": {
    "colab": {
      "name": "PI Monte Carlo.ipynb",
      "provenance": [],
      "authorship_tag": "ABX9TyNAEvQ1sferFI/dFitfL8A6",
      "include_colab_link": true
    },
    "kernelspec": {
      "name": "python3",
      "display_name": "Python 3"
    },
    "language_info": {
      "name": "python"
    }
  },
  "cells": [
    {
      "cell_type": "markdown",
      "metadata": {
        "id": "view-in-github",
        "colab_type": "text"
      },
      "source": [
        "<a href=\"https://colab.research.google.com/github/MarcosBNarita/Calculo-PI-Monte-Carlo/blob/main/PI_Monte_Carlo.ipynb\" target=\"_parent\"><img src=\"https://colab.research.google.com/assets/colab-badge.svg\" alt=\"Open In Colab\"/></a>"
      ]
    },
    {
      "cell_type": "code",
      "source": [
        "approximate_pi_parallel(700000)"
      ],
      "metadata": {
        "colab": {
          "base_uri": "https://localhost:8080/"
        },
        "id": "R5lDOgi2DNPZ",
        "outputId": "701234d0-bd1e-4ffe-8dec-33b9262860ff"
      },
      "execution_count": 4,
      "outputs": [
        {
          "output_type": "stream",
          "name": "stdout",
          "text": [
            "pi =  3.14296\n",
            "numero de processos =  7\n",
            "Tempo de execucao: 0.69s\n"
          ]
        }
      ]
    },
    {
      "cell_type": "code",
      "execution_count": 1,
      "metadata": {
        "id": "1GC8sN4OCxWw"
      },
      "outputs": [],
      "source": [
        "import math\n",
        "import random\n",
        "import time\n",
        "from multiprocessing.pool import Pool\n",
        "\n",
        "def sample(pontos):\n",
        "    ponto_circ = 0\n",
        "    for _ in range(pontos):\n",
        "        x, y = random.uniform(-1, 1), random.uniform(-1, 1)\n",
        "        if math.hypot(x, y) <= 1:\n",
        "            ponto_circ += 1\n",
        "    return ponto_circ\n",
        "\n",
        "def approximate_pi_parallel(pontos):\n",
        "    pool = Pool()\n",
        "    start = time.time()\n",
        "    worker = 0\n",
        "    ponto_circ = 0\n",
        "    pontos_p_processo = 100000\n",
        "    for result in pool.map(sample, [pontos_p_processo for _ in range(pontos//pontos_p_processo)]):\n",
        "        ponto_circ += result\n",
        "        worker = worker+1\n",
        "        \n",
        "    pi = ((4*ponto_circ)/pontos)\n",
        "\n",
        "    print(\"pi aproximado = \", pi)\n",
        "    print(\"numero de processos = \", worker)\n",
        "    print(\"Tempo de execucao: {:.2f}s\".format(time.time()-start));"
      ]
    }
  ]
}